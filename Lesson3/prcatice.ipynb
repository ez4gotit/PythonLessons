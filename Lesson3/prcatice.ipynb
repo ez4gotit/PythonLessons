{
 "cells": [
  {
   "cell_type": "code",
   "execution_count": 11,
   "metadata": {},
   "outputs": [
    {
     "name": "stdout",
     "output_type": "stream",
     "text": [
      "[0, 0, 0, 0, 0, 0, 0, 0, 0, 0, 0, 1]\n",
      "[0, 1, 1, 2, 3, 5, 8, 13, 21, 34, 55, 89, 144]\n"
     ]
    }
   ],
   "source": [
    "N=int(input())\n",
    "a = [0]*N\n",
    "C=0\n",
    "d=0\n",
    "e=1\n",
    "for i in range(N-1):\n",
    "    if C+d ==e:\n",
    "        a[i]=C\n",
    "        a[i+1]=d\n",
    "        e=C+d\n",
    "    else:\n",
    "        if C==d:\n",
    "            d=d+1\n",
    "        else:\n",
    "            C=C+1\n",
    "print(a)\n",
    "\n",
    "a = [0]\n",
    "b=0\n",
    "d =1\n",
    "c =0\n",
    "\n",
    "for i in range(N):\n",
    "\n",
    "    c = d #c=1 # c = 2\n",
    "    d   = b #a=1 a = 3\n",
    "    b = c + d #b=2+3\n",
    "    \n",
    "    a.append(b)\n",
    "\n",
    "print(a)"
   ]
  },
  {
   "cell_type": "code",
   "execution_count": null,
   "metadata": {},
   "outputs": [],
   "source": [
    "# Пользователь вводит строку из n символов, после чего вводит символ C который нужно заменить, и вводит символ D на который нужно заменить. Вывод-измененая строка\n",
    "s = str(input())\n",
    "c = str(input())\n",
    "d = str(input())\n",
    "print(s.replace(c,d))\n",
    "\n",
    "a = list(s)\n",
    "s=''\n",
    "def replace(s):\n",
    "    for i in range(len(a)):\n",
    "        if a[i] == c:\n",
    "            s+=d\n",
    "        else:\n",
    "            s+=a[i]\n",
    "    return s\n",
    "print(replace(s=s))\n",
    "\n"
   ]
  },
  {
   "cell_type": "code",
   "execution_count": 25,
   "metadata": {},
   "outputs": [
    {
     "ename": "ValueError",
     "evalue": "list.remove(x): x not in list",
     "output_type": "error",
     "traceback": [
      "\u001b[1;31m---------------------------------------------------------------------------\u001b[0m",
      "\u001b[1;31mValueError\u001b[0m                                Traceback (most recent call last)",
      "Cell \u001b[1;32mIn[25], line 10\u001b[0m\n\u001b[0;32m      6\u001b[0m \u001b[38;5;66;03m#1 Перебирать строку  по символам и встретив первую букву слово перебирать дальше \u001b[39;00m\n\u001b[0;32m      7\u001b[0m \u001b[38;5;66;03m#2 Разбить на массив слов и  пройтись по нему\u001b[39;00m\n\u001b[0;32m      9\u001b[0m a \u001b[38;5;241m=\u001b[39m s\u001b[38;5;241m.\u001b[39msplit(\u001b[38;5;124m\"\u001b[39m\u001b[38;5;124m \u001b[39m\u001b[38;5;124m\"\u001b[39m)\n\u001b[1;32m---> 10\u001b[0m \u001b[43ma\u001b[49m\u001b[38;5;241;43m.\u001b[39;49m\u001b[43mremove\u001b[49m\u001b[43m(\u001b[49m\u001b[38;5;28;43;01mNone\u001b[39;49;00m\u001b[43m)\u001b[49m\n\u001b[0;32m     11\u001b[0m \u001b[38;5;28;01mfor\u001b[39;00m i \u001b[38;5;129;01min\u001b[39;00m \u001b[38;5;28mrange\u001b[39m(\u001b[38;5;28mlen\u001b[39m(a)):\n\u001b[0;32m     12\u001b[0m     \u001b[38;5;28;01mif\u001b[39;00m a[i] \u001b[38;5;241m==\u001b[39m word:\n",
      "\u001b[1;31mValueError\u001b[0m: list.remove(x): x not in list"
     ]
    }
   ],
   "source": [
    "s= str(input())\n",
    "# Найти слово в предложении и написать его номер в качестве вывода.\n",
    "# Пользователь вводит строку S и слово X вывести номер слова X в строке S\n",
    "word = str(input())\n",
    "\n",
    "#1 Перебирать строку  по символам и встретив первую букву слово перебирать дальше \n",
    "#2 Разбить на массив слов и  пройтись по нему\n",
    "\n",
    "a = s.split(\" \")\n",
    "\n",
    "for i in range(len(a)):\n",
    "    if a[i] == word:\n",
    "        print(str(i+1))\n",
    "print(a)"
   ]
  }
 ],
 "metadata": {
  "kernelspec": {
   "display_name": "Python 3",
   "language": "python",
   "name": "python3"
  },
  "language_info": {
   "codemirror_mode": {
    "name": "ipython",
    "version": 3
   },
   "file_extension": ".py",
   "mimetype": "text/x-python",
   "name": "python",
   "nbconvert_exporter": "python",
   "pygments_lexer": "ipython3",
   "version": "3.11.9"
  }
 },
 "nbformat": 4,
 "nbformat_minor": 2
}

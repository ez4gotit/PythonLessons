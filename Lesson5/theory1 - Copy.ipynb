{
 "cells": [
  {
   "cell_type": "markdown",
   "metadata": {},
   "source": [
    "# Строки и работа со строками.\n",
    "### Способы взаимодействия со строками\n",
    "1) Перебор строки\n",
    "2) Конкатенация\n",
    "3) Длинна строки\n",
    "4) Проверка на вхождения\n",
    "5) Умножение строки на целое число"
   ]
  },
  {
   "cell_type": "code",
   "execution_count": 2,
   "metadata": {},
   "outputs": [
    {
     "name": "stdout",
     "output_type": "stream",
     "text": [
      "H\n",
      "e\n",
      "l\n",
      "l\n",
      "o\n",
      " \n",
      "W\n",
      "o\n",
      "r\n",
      "l\n",
      "d\n",
      "!\n"
     ]
    }
   ],
   "source": [
    "#перебор\n",
    "a = str(input())\n",
    "\n",
    "for char in a:\n",
    "    print(char)"
   ]
  },
  {
   "cell_type": "code",
   "execution_count": 12,
   "metadata": {},
   "outputs": [
    {
     "name": "stdout",
     "output_type": "stream",
     "text": [
      "Hello World!Python\n",
      "Hello World!Python\n"
     ]
    }
   ],
   "source": [
    "#Конкатенация\n",
    "a = str(input())\n",
    "b = str(input())\n",
    "\n",
    "c = a+b\n",
    "print(c)\n",
    "\n",
    "\n",
    "#Сложный вариант:\n",
    "\n",
    "finalText = ['']*(len(a)+len(b))\n",
    "\n",
    "for i in range(0, len(finalText)):\n",
    "    if i < len(a):\n",
    "        finalText[i] = a[i]\n",
    "    else:\n",
    "        finalText[i] = b[i-len(a)]\n",
    "\n",
    "text = ''.join(finalText)\n",
    "print(text)"
   ]
  },
  {
   "cell_type": "code",
   "execution_count": 5,
   "metadata": {},
   "outputs": [
    {
     "name": "stdout",
     "output_type": "stream",
     "text": [
      "Hello World!\n",
      "Длинна строки с :12\n"
     ]
    }
   ],
   "source": [
    "#Длинна строк\n",
    "a = str(input())\n",
    "b = str(input())\n",
    "\n",
    "c = a+b\n",
    "print(c)\n",
    "\n",
    "print(f'Длинна строки с :{len(c)}')\n",
    "\n",
    "print(f'Длинна строки с :{len(c)}')"
   ]
  },
  {
   "cell_type": "code",
   "execution_count": 13,
   "metadata": {},
   "outputs": [
    {
     "name": "stdout",
     "output_type": "stream",
     "text": [
      "True\n",
      "True\n"
     ]
    }
   ],
   "source": [
    "text = str(input())\n",
    "word = str(input())\n",
    "\n",
    "print(word in text)\n",
    "\n",
    "isContains = False\n",
    "\n",
    "for i in range(len(text)):\n",
    "    if text[i]== word[0] and i + len(word)-1 < len(text):\n",
    "        for j in range(len(word)):\n",
    "            if text[i+j]==word[j]:\n",
    "                isContains = True\n",
    "            else:\n",
    "                isContains = False\n",
    "                break\n",
    "print(isContains)\n"
   ]
  },
  {
   "cell_type": "code",
   "execution_count": 14,
   "metadata": {},
   "outputs": [
    {
     "name": "stdout",
     "output_type": "stream",
     "text": [
      "BimBimBimBim\n",
      "BimBimBimBim\n"
     ]
    }
   ],
   "source": [
    "text = str(input())\n",
    "number = int(input())\n",
    "\n",
    "print(text*number)\n",
    "\n",
    "list = []\n",
    "\n",
    "for i in range(number):\n",
    "    for j in text:\n",
    "        list.append(j)\n",
    "\n",
    "a = ''.join(list)\n",
    "\n",
    "print(a)\n"
   ]
  }
 ],
 "metadata": {
  "kernelspec": {
   "display_name": "Python 3",
   "language": "python",
   "name": "python3"
  },
  "language_info": {
   "codemirror_mode": {
    "name": "ipython",
    "version": 3
   },
   "file_extension": ".py",
   "mimetype": "text/x-python",
   "name": "python",
   "nbconvert_exporter": "python",
   "pygments_lexer": "ipython3",
   "version": "3.12.3"
  }
 },
 "nbformat": 4,
 "nbformat_minor": 2
}

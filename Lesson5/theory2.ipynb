{
 "cells": [
  {
   "cell_type": "markdown",
   "metadata": {},
   "source": [
    "# Строки и работа с содержимым строк.\n",
    "### Способы взаимодействия с содержимым строки\n",
    "1) capitalize() Делает текст с заглавной буквы\n",
    "2) swapcase() Инвертирует регистр\n",
    "3) title() Делает каждое слово с заглавной\n",
    "4) lower() Нижний регистр\n",
    "5) upper() Верхний регистр"
   ]
  },
  {
   "cell_type": "code",
   "execution_count": 2,
   "metadata": {},
   "outputs": [
    {
     "name": "stdout",
     "output_type": "stream",
     "text": [
      "hello world!\n",
      "Hello world!\n",
      "HELLO WORLD!\n",
      "Hello World!\n",
      "hello world!\n",
      "HELLO WORLD!\n"
     ]
    }
   ],
   "source": [
    "#capitalize\n",
    "text = str(input())\n",
    "print(text)\n",
    "print(text.capitalize())\n",
    "\n",
    "#swapcase\n",
    "print(text.swapcase())\n",
    "\n",
    "#title\n",
    "\n",
    "print(text.title())\n",
    "#lower\n",
    "\n",
    "print(text.lower())\n",
    "#upper\n",
    "\n",
    "print(text.upper())\n"
   ]
  },
  {
   "cell_type": "markdown",
   "metadata": {},
   "source": [
    "Задача:\n",
    "Написать алгоритм, который ищет и считает слова X в предложении Y вне зависимости от регистра и выводит их число"
   ]
  }
 ],
 "metadata": {
  "kernelspec": {
   "display_name": "Python 3",
   "language": "python",
   "name": "python3"
  },
  "language_info": {
   "codemirror_mode": {
    "name": "ipython",
    "version": 3
   },
   "file_extension": ".py",
   "mimetype": "text/x-python",
   "name": "python",
   "nbconvert_exporter": "python",
   "pygments_lexer": "ipython3",
   "version": "3.11.9"
  }
 },
 "nbformat": 4,
 "nbformat_minor": 2
}

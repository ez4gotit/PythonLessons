{
 "cells": [
  {
   "cell_type": "markdown",
   "metadata": {},
   "source": [
    "# Строки и работа со строками.\n",
    "### Способы взаимодействия со строками\n",
    "1) Перебор строки\n",
    "2) Конкатенация\n",
    "3) Длинна строки\n",
    "4) Проверка на вхождения\n",
    "5) Умножение строки на целое число"
   ]
  },
  {
   "cell_type": "code",
   "execution_count": 4,
   "metadata": {},
   "outputs": [
    {
     "name": "stdout",
     "output_type": "stream",
     "text": [
      "Уникальные символы: {'r', 'l', 'H', ' ', 'W', 'd', 'o', 'e'}\n"
     ]
    }
   ],
   "source": [
    "text = str(input())\n",
    "\n",
    "a = set()\n",
    "#Перебор строки\n",
    "for i in text:\n",
    "    a.add(i)\n",
    "#Использование свойства уникальности элементов множества\n",
    "print(f'Уникальные символы: {a}')\n"
   ]
  },
  {
   "cell_type": "code",
   "execution_count": 10,
   "metadata": {},
   "outputs": [
    {
     "name": "stdout",
     "output_type": "stream",
     "text": [
      "abcbcd\n",
      "abcbcd\n"
     ]
    }
   ],
   "source": [
    "\n",
    "text1 = str(input())\n",
    "text2 = str(input())\n",
    "#Конкатенация\n",
    "textFinal = text1 + text2\n",
    "\n",
    "print(textFinal)\n",
    "\n",
    "#Сложный вариант\n",
    "a = []\n",
    "for i in text1:\n",
    "    a.append(i)\n",
    "\n",
    "for i in text2:\n",
    "    a.append(i)\n",
    "\n",
    "s = str(''.join(a))\n",
    "print(s)"
   ]
  },
  {
   "cell_type": "code",
   "execution_count": 15,
   "metadata": {},
   "outputs": [
    {
     "name": "stdout",
     "output_type": "stream",
     "text": [
      "hello World\n",
      "Длинна суммы строк: 11\n"
     ]
    }
   ],
   "source": [
    "#Нахождение Длинны строки\n",
    "\n",
    "\n",
    "text1 = str(input())\n",
    "text2 = str(input())\n",
    "\n",
    "#Ещё более сложный сложный вариант сложить строки\n",
    "a = ['']*(len(text1)+len(text2))\n",
    "\n",
    "for i in range(len(a)):\n",
    "    if i < len(text1):\n",
    "        a[i] = text1[i]\n",
    "    else:\n",
    "        a[i] = text2[i-len(text1)]\n",
    "\n",
    "print(''.join(a))\n",
    "s = ''.join(a)\n",
    "print(f'Длинна суммы строк: {len(s)}')"
   ]
  },
  {
   "cell_type": "code",
   "execution_count": 22,
   "metadata": {},
   "outputs": [
    {
     "name": "stdout",
     "output_type": "stream",
     "text": [
      "True\n",
      "True\n"
     ]
    }
   ],
   "source": [
    "#Проверка на вхождения\n",
    "\n",
    "\n",
    "text = str(input())\n",
    "word = str(input())\n",
    "\n",
    "#простой вариант\n",
    "print(word in text)\n",
    "\n",
    "b = False\n",
    "#Сложный Вариант\n",
    "for i in range(len(text)):\n",
    "    if text[i] == word[0] and i + len(word)-1 < len(text):\n",
    "        for j in range(len(word)):\n",
    "            if text[i+j]==word[j]:\n",
    "                b = True\n",
    "            else:\n",
    "                b = False\n",
    "                break\n",
    "print(b)\n"
   ]
  },
  {
   "cell_type": "code",
   "execution_count": 27,
   "metadata": {},
   "outputs": [
    {
     "name": "stdout",
     "output_type": "stream",
     "text": [
      "texttexttexttexttexttexttexttexttexttext\n",
      "texttexttexttexttexttexttexttexttexttext\n"
     ]
    }
   ],
   "source": [
    "#Умножение строки на число\n",
    "\n",
    "text = str(input())\n",
    "num = int(input())\n",
    "\n",
    "print(text*num)\n",
    "\n",
    "\n",
    "#Сложный способ\n",
    "\n",
    "lis = []\n",
    "for i in range(num):\n",
    "    for j in text:\n",
    "        lis.append(j)\n",
    "a = \"\"\n",
    "print(a.join(lis))\n"
   ]
  }
 ],
 "metadata": {
  "kernelspec": {
   "display_name": "Python 3",
   "language": "python",
   "name": "python3"
  },
  "language_info": {
   "codemirror_mode": {
    "name": "ipython",
    "version": 3
   },
   "file_extension": ".py",
   "mimetype": "text/x-python",
   "name": "python",
   "nbconvert_exporter": "python",
   "pygments_lexer": "ipython3",
   "version": "3.11.9"
  }
 },
 "nbformat": 4,
 "nbformat_minor": 2
}

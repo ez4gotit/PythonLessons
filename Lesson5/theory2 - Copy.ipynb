{
 "cells": [
  {
   "cell_type": "markdown",
   "metadata": {},
   "source": [
    "# Строки и работа с содержимым строк.\n",
    "### Способы взаимодействия с содержимым строки\n",
    "1) capitalize() Делает текст с заглавной буквы\n",
    "2) swapcase() Инвертирует регистр\n",
    "3) title() Делает каждое слово с заглавной\n",
    "4) lower() Нижний регистр\n",
    "5) upper() Верхний регистр"
   ]
  },
  {
   "cell_type": "code",
   "execution_count": 7,
   "metadata": {},
   "outputs": [
    {
     "name": "stdout",
     "output_type": "stream",
     "text": [
      "Hello World!\n",
      "Hello world!\n",
      "hELLO wORLD!\n",
      "Hello World!\n",
      "hello world!\n",
      "HELLO WORLD!\n",
      "Hell0 W0rld!\n",
      "2\n"
     ]
    }
   ],
   "source": [
    "#capitalize\n",
    "\n",
    "from os import replace\n",
    "\n",
    "\n",
    "text = str(input())\n",
    "\n",
    "print(text)\n",
    "\n",
    "print(text.capitalize())\n",
    "\n",
    "\n",
    "#swapcase\n",
    "\n",
    "print(text.swapcase())\n",
    "\n",
    "\n",
    "#title\n",
    "\n",
    "print(text.title())\n",
    "\n",
    "#lower\n",
    "\n",
    "print(text.lower())\n",
    "\n",
    "#upper\n",
    "\n",
    "print(text.upper())\n",
    "\n",
    "print(text.replace('o', '0'))\n",
    "\n",
    "print(text.count('o'))\n"
   ]
  },
  {
   "cell_type": "markdown",
   "metadata": {},
   "source": [
    "Задача:\n",
    "Написать алгоритм, который ищет и считает слова X в предложении Y вне зависимости от регистра и выводит их число"
   ]
  },
  {
   "cell_type": "code",
   "execution_count": 8,
   "metadata": {},
   "outputs": [
    {
     "name": "stdout",
     "output_type": "stream",
     "text": [
      "1\n"
     ]
    }
   ],
   "source": [
    "print(input().lower().count(input().lower()))"
   ]
  },
  {
   "cell_type": "markdown",
   "metadata": {},
   "source": [
    "Задача2: Написать программу, которая выводит дробную часть числа"
   ]
  },
  {
   "cell_type": "code",
   "execution_count": 12,
   "metadata": {},
   "outputs": [
    {
     "name": "stdout",
     "output_type": "stream",
     "text": [
      "['3', '14']\n",
      "14\n"
     ]
    }
   ],
   "source": [
    "a = str(float(input()))\n",
    "\n",
    "a = a.split(\".\")\n",
    "print(a)\n",
    "print(a[1])"
   ]
  }
 ],
 "metadata": {
  "kernelspec": {
   "display_name": "Python 3",
   "language": "python",
   "name": "python3"
  },
  "language_info": {
   "codemirror_mode": {
    "name": "ipython",
    "version": 3
   },
   "file_extension": ".py",
   "mimetype": "text/x-python",
   "name": "python",
   "nbconvert_exporter": "python",
   "pygments_lexer": "ipython3",
   "version": "3.12.3"
  }
 },
 "nbformat": 4,
 "nbformat_minor": 2
}

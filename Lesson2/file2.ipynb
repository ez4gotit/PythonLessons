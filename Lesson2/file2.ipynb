{
 "cells": [
  {
   "cell_type": "markdown",
   "metadata": {},
   "source": [
    "# Тема: Типы данных\n",
    "\n",
    "### 1.Integer -> Целое Число Если  число Int16 [-32 768 ; 32 767]  Int32 ->  −2 147 483 648  2 147 483 647 \n"
   ]
  },
  {
   "cell_type": "code",
   "execution_count": 1,
   "metadata": {},
   "outputs": [],
   "source": [
    "# 000000000 -> 0  0000000001 -> 1 0000000000010  -> 2 00000000011 2+1\n",
    "\n",
    "\n",
    "a : int = 1 #0001\n",
    "      #  1\n",
    "b = 3 #0011\n",
    "\n",
    "c = a+b #0100\n",
    "\n",
    "a = -5 #1011\n",
    "\n",
    "b = 3 #0011\n",
    "\n",
    "c = a+b #1110"
   ]
  },
  {
   "cell_type": "markdown",
   "metadata": {},
   "source": [
    "\n",
    "### 1.1 UInt -> Целое Число Положительное UInt16 [0 ; 65 535]      Uint32 [0; 4 294 967 295]\n"
   ]
  },
  {
   "cell_type": "code",
   "execution_count": 43,
   "metadata": {},
   "outputs": [
    {
     "name": "stdout",
     "output_type": "stream",
     "text": [
      "<class 'ctypes.c_ulong'>\n"
     ]
    }
   ],
   "source": [
    "from ctypes.wintypes import UINT\n",
    "\n",
    "\n",
    "\n",
    "d : UINT = -1234\n",
    "\n",
    "print(type(UINT(d)))"
   ]
  },
  {
   "cell_type": "markdown",
   "metadata": {},
   "source": [
    "\n",
    "### 2.Float -> Число с Плавающей точкой  \n"
   ]
  },
  {
   "cell_type": "code",
   "execution_count": 15,
   "metadata": {},
   "outputs": [
    {
     "name": "stdout",
     "output_type": "stream",
     "text": [
      "sys.float_info(max=1.7976931348623157e+308, max_exp=1024, max_10_exp=308, min=2.2250738585072014e-308, min_exp=-1021, min_10_exp=-307, dig=15, mant_dig=53, epsilon=2.220446049250313e-16, radix=2, rounds=1)\n",
      "0.14285714285714285\n"
     ]
    }
   ],
   "source": [
    "import sys\n",
    "\n",
    "print(sys.float_info)\n",
    "\n",
    "a = 7\n",
    "b = 1\n",
    "\n",
    "print(b/a)\n",
    "\n"
   ]
  },
  {
   "cell_type": "markdown",
   "metadata": {},
   "source": [
    "\n",
    "### 3.Decimal -> Числа с фиксированной точностью\n"
   ]
  },
  {
   "cell_type": "code",
   "execution_count": 28,
   "metadata": {},
   "outputs": [
    {
     "name": "stdout",
     "output_type": "stream",
     "text": [
      "0.1428571428571428571428571428571428571428571428571428571428571428571428571428571428571428571428571428571428571428571428571428571428571428571428571428571428571428571428571428571428571428571428571428571428571428571428571428571428571428571428571428571428571428571428571428571428571428571428571428571428571428571428571428571428571428571428571428571428571428571428571428571428571428571428571428571428571428571428571428571428571428571428571428571428571428571428571428571428571428571428571428571428571428571428571428571428571428571428571428571428571428571428571428571428571428571428571428571428571428571428571428571428571428571428571428571428571428571428571428571428571428571428571428571428571428571428571428571428571428571428571428571428571428571428571428571428571428571428571428571428571428571428571428571428571428571428571428571428571428571428571428571428571428571428571428571428571428571428571428571428571428571428571428571428571428571428571428571428571428571428571428571428571428571428571428571428571429\n",
      "0\n",
      "7\n"
     ]
    }
   ],
   "source": [
    "from decimal import *\n",
    "\n",
    "getcontext().prec = 1000\n",
    "a=Decimal(7)\n",
    "b=Decimal(1)\n",
    "\n",
    "print(b/a)\n",
    "\n",
    "\n",
    "\n",
    "getcontext().prec = 10\n",
    "a=Decimal(7)\n",
    "b=Decimal(1)\n",
    "\n",
    "print(b//a)\n",
    "\n",
    "a+b\n",
    "a-b\n",
    "a*b\n",
    "a/b\n",
    "a**b\n",
    "a//b\n",
    "a%b\n",
    "\n"
   ]
  },
  {
   "cell_type": "markdown",
   "metadata": {},
   "source": [
    "\n",
    "### 4.String -> Строки включая простые строки и смарт-строки \n"
   ]
  },
  {
   "cell_type": "code",
   "execution_count": 50,
   "metadata": {},
   "outputs": [
    {
     "name": "stdout",
     "output_type": "stream",
     "text": [
      "1 World\n",
      "1 World! Hello VS Code!\n"
     ]
    }
   ],
   "source": [
    "a = \"1\"\n",
    "b = \"World\"\n",
    "#chr(0) == None\n",
    "print(a+chr(32)+b)\n",
    "\n",
    "\n",
    "print(f'{a} {b}! Hello VS Code!')"
   ]
  },
  {
   "cell_type": "markdown",
   "metadata": {},
   "source": [
    "\n",
    "### 4.1.Char -> Символы   пример: chr(<n>)\n",
    "\n",
    "### 5.Boolean -> Логический тип, True/False\n"
   ]
  },
  {
   "cell_type": "code",
   "execution_count": 55,
   "metadata": {},
   "outputs": [
    {
     "name": "stdout",
     "output_type": "stream",
     "text": [
      "True\n"
     ]
    }
   ],
   "source": [
    "a = True\n",
    "\n",
    "b = True\n",
    "\n",
    "c = a&b\n",
    "\n",
    "print(c)"
   ]
  },
  {
   "cell_type": "markdown",
   "metadata": {},
   "source": [
    "\n",
    "\n",
    "#### *Если мы говорим про ООП то добавляются объекты, могут добавляться делегаты, события и так далее.\n",
    "\n",
    "# Структуры в Python:\n",
    "\n",
    "### 1. List\n",
    "\n",
    "### 2. Tuple -> Кортеж Бывает одного типа, бывает смешанным\n",
    "\n",
    "### 3. Set Множество уникальных элементов\n",
    "\n",
    "### 4. FrozenSet Неизменяемое множество уникальных элементов\n",
    "\n",
    "### 5. Словарь Уникальный набор ключей в паре с неуникальными значениями\n",
    "\n"
   ]
  },
  {
   "cell_type": "code",
   "execution_count": 88,
   "metadata": {},
   "outputs": [
    {
     "name": "stdout",
     "output_type": "stream",
     "text": [
      "2\n",
      "[1, 2, 3, 94, 5, 6, 8, 12]\n",
      "[1, 2, 3, 5, 6, 8, 12, 94]\n",
      "2\n",
      "{'o', 'H', 'd', 'r', 'l', 'e', 'W'}\n",
      "{'o', 'H', 'a', 'd', 'r', 'l', 'e', 'W'}\n",
      "{'a': 1, 'b': 2, 'c': 'AAAAA', 'E': 'F'}\n"
     ]
    }
   ],
   "source": [
    "#List\n",
    "\n",
    "a = [1,2,3,94,5,6,8]\n",
    "\n",
    "print(a[1])\n",
    "\n",
    "a.append(12)\n",
    "\n",
    "print(a)\n",
    "\n",
    "a.sort()\n",
    "\n",
    "print(a)\n",
    "\n",
    "\n",
    "#Tuple\n",
    "\n",
    "a = (1, 2, 3)\n",
    "\n",
    "print(a[1])\n",
    "\n",
    "\n",
    "#Set\n",
    "\n",
    "\n",
    "a = set(\"Hello\")\n",
    "\n",
    "b = set(\"World\")\n",
    "print(a|b)\n",
    "\n",
    "a.add('a')\n",
    "print(a|b)\n",
    "\n",
    "\n",
    "#Dictionary\n",
    "\n",
    "a = {'a':1, 'b': 2, 'c':\"AAAAA\"}\n",
    "a[\"E\"] = 'F'\n",
    "print(a)"
   ]
  },
  {
   "cell_type": "code",
   "execution_count": 91,
   "metadata": {},
   "outputs": [
    {
     "name": "stdout",
     "output_type": "stream",
     "text": [
      "1\n",
      "2\n",
      "3\n",
      "1\n",
      "2\n",
      "3\n"
     ]
    }
   ],
   "source": [
    "\n",
    "a = float(input(\"Введите свое число: \"))\n",
    "b = str(a)\n",
    "for i in b:    \n",
    "    if(i != '.'):\n",
    "        print(i)\n",
    "\n"
   ]
  }
 ],
 "metadata": {
  "kernelspec": {
   "display_name": "Python 3",
   "language": "python",
   "name": "python3"
  },
  "language_info": {
   "codemirror_mode": {
    "name": "ipython",
    "version": 3
   },
   "file_extension": ".py",
   "mimetype": "text/x-python",
   "name": "python",
   "nbconvert_exporter": "python",
   "pygments_lexer": "ipython3",
   "version": "3.11.9"
  }
 },
 "nbformat": 4,
 "nbformat_minor": 2
}

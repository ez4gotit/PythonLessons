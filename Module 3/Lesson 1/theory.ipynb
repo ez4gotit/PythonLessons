{
 "cells": [
  {
   "cell_type": "markdown",
   "metadata": {},
   "source": [
    "# ООП\n",
    "### Наследование\n",
    "### Инкапсуляция\n",
    "### Полиморфизм"
   ]
  },
  {
   "cell_type": "code",
   "execution_count": 3,
   "metadata": {},
   "outputs": [
    {
     "name": "stdout",
     "output_type": "stream",
     "text": [
      "Vlad=>2\n",
      "Misha=>1\n"
     ]
    }
   ],
   "source": [
    "# Приме ООП:\n",
    "\n",
    "class World:\n",
    "    def __init__(self):\n",
    "        self.persons = []\n",
    "    def PassYear(self):\n",
    "        for person in self.persons:\n",
    "            person.age+=1\n",
    "    def AddPerson(self, person):\n",
    "        self.persons.append(person)\n",
    "    def PrintAges(self):\n",
    "        for person in self.persons:\n",
    "            print(f'{person.name}=>{person.age}')\n",
    "\n",
    "\n",
    "class Person:\n",
    "    def __init__(self, name, isMale):\n",
    "        self.age = 0\n",
    "        self.name = name\n",
    "        self.isMale = isMale\n",
    "\n",
    "    def Say(self, message):\n",
    "        print(f'{self.name}:{message}')\n",
    "\n",
    "\n",
    "\n",
    "world = World()\n",
    "\n",
    "a = Person(\"Vlad\", True)\n",
    "\n",
    "world.AddPerson(a)\n",
    "\n",
    "world.PassYear()\n",
    "\n",
    "b = Person(\"Misha\", True)\n",
    "\n",
    "world.AddPerson(b)\n",
    "\n",
    "world.PassYear()\n",
    "\n",
    "world.PrintAges()"
   ]
  },
  {
   "cell_type": "code",
   "execution_count": 28,
   "metadata": {},
   "outputs": [
    {
     "name": "stdout",
     "output_type": "stream",
     "text": [
      "2\n",
      "2\n"
     ]
    }
   ],
   "source": [
    "# Абстракция и наследование:\n",
    "\n",
    "\n",
    "class Entity:\n",
    "    def __init__(self):\n",
    "        self.age = 0\n",
    "    def BecomeOlder(self):\n",
    "        self.age += 1\n",
    "\n",
    "\n",
    "class Human(Entity):\n",
    "    \n",
    "    def __init__(self, name, isMale):\n",
    "        super().__init__()\n",
    "        self.name = name\n",
    "        self.isMale = isMale\n",
    "\n",
    "    def Say(self, message):\n",
    "        print(f'{self.name}:{message}')\n",
    "\n",
    "\n",
    "class Animal(Entity):\n",
    "    def __init__(self, name, isMale):\n",
    "        super().__init__()\n",
    "        self.age = 0\n",
    "        self.name = name\n",
    "        self.isMale = isMale\n",
    "\n",
    "        \n",
    "\n",
    "class Tree(Entity):\n",
    "    def __init__(self):\n",
    "        super().__init__()\n",
    "        self.age = 0\n",
    "\n",
    "\n",
    "a = Human(\"name\", False)\n",
    "a.age = 0\n",
    "a.BecomeOlder()\n",
    "\n",
    "a.BecomeOlder()\n",
    "\n",
    "b= Tree()\n",
    "\n",
    "b.BecomeOlder()\n",
    "\n",
    "print(a.age)\n",
    "\n",
    "print(b.age)\n",
    "\n",
    "\n"
   ]
  }
 ],
 "metadata": {
  "kernelspec": {
   "display_name": "Python 3",
   "language": "python",
   "name": "python3"
  },
  "language_info": {
   "codemirror_mode": {
    "name": "ipython",
    "version": 3
   },
   "file_extension": ".py",
   "mimetype": "text/x-python",
   "name": "python",
   "nbconvert_exporter": "python",
   "pygments_lexer": "ipython3",
   "version": "3.12.3"
  }
 },
 "nbformat": 4,
 "nbformat_minor": 2
}

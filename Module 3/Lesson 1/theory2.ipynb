{
 "cells": [
  {
   "cell_type": "code",
   "execution_count": 4,
   "metadata": {},
   "outputs": [
    {
     "data": {
      "text/plain": [
       "1"
      ]
     },
     "execution_count": 4,
     "metadata": {},
     "output_type": "execute_result"
    }
   ],
   "source": [
    "#Открытие файлов\n",
    "\n",
    "import os\n",
    "os.system('theory.ipynb')"
   ]
  },
  {
   "cell_type": "code",
   "execution_count": 5,
   "metadata": {},
   "outputs": [
    {
     "data": {
      "text/plain": [
       "1"
      ]
     },
     "execution_count": 5,
     "metadata": {},
     "output_type": "execute_result"
    }
   ],
   "source": [
    "#Выполнение комманд\n",
    "\n",
    "os.system('dir')"
   ]
  },
  {
   "cell_type": "code",
   "execution_count": 24,
   "metadata": {},
   "outputs": [
    {
     "name": "stdout",
     "output_type": "stream",
     "text": [
      "bim bim bam bam\n"
     ]
    }
   ],
   "source": [
    "#Считывание файла\n",
    "\n",
    "with open('New.txt')as file:\n",
    "    lines = file.read()\n",
    "\n",
    "print(lines)"
   ]
  },
  {
   "cell_type": "code",
   "execution_count": 16,
   "metadata": {},
   "outputs": [
    {
     "name": "stdout",
     "output_type": "stream",
     "text": [
      "{'ФИО': 'Иванов Иван Иванович', 'Оценки': {'Математика': 4, 'Физика': 5, 'Информатика': 5}, 'Хобби': ['Программирование', 'Плавание'], 'Возраст': 14, 'ДомЖивотные': None}\n"
     ]
    }
   ],
   "source": [
    "import json\n",
    "\n",
    "file = \"file.json\"\n",
    "\n",
    "\n",
    "info = []\n",
    "\n",
    "with open(file, encoding='utf-8') as file:\n",
    "    info = json.loads(file.read())\n",
    "\n",
    "print(info)"
   ]
  },
  {
   "cell_type": "code",
   "execution_count": 29,
   "metadata": {},
   "outputs": [
    {
     "name": "stdout",
     "output_type": "stream",
     "text": [
      "<class 'str'>\n",
      "<class 'dict'>\n"
     ]
    }
   ],
   "source": [
    "import json\n",
    "string=json.dumps({'1':1,'2':2,'3':3})\n",
    "print(type(string))\n",
    "\n",
    "with open(\"file2.json\", \"w\", encoding=\"utf-8\") as file:\n",
    "    file.write(string)\n",
    "info = []\n",
    "with open(\"file2.json\", encoding='utf-8') as file:\n",
    "    info = json.loads(file.read())\n",
    "\n",
    "print(type(info))"
   ]
  }
 ],
 "metadata": {
  "kernelspec": {
   "display_name": "Python 3",
   "language": "python",
   "name": "python3"
  },
  "language_info": {
   "codemirror_mode": {
    "name": "ipython",
    "version": 3
   },
   "file_extension": ".py",
   "mimetype": "text/x-python",
   "name": "python",
   "nbconvert_exporter": "python",
   "pygments_lexer": "ipython3",
   "version": "3.12.3"
  }
 },
 "nbformat": 4,
 "nbformat_minor": 2
}

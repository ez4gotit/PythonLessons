{
 "cells": [
  {
   "cell_type": "markdown",
   "metadata": {},
   "source": [
    "# Django\n"
   ]
  },
  {
   "attachments": {
    "image-2.png": {
     "image/png": "[encoded data removed]"
    },
    "image.png": {
     "image/png": "[encoded data removed]"
    }
   },
   "cell_type": "markdown",
   "metadata": {},
   "source": [
    "Создаем рабочую папку для проекта\n",
    "\n",
    "и командой \n",
    "\n",
    "``` pip install virtualenv ```\n",
    "\n",
    "устанавливаем пакет виртуальной среды.\n",
    "\n",
    "Затем, мы создаем виртуальную среду:\n",
    "\n",
    "``` virtualenv <название среды> ```\n",
    "\n",
    "\n",
    "\n",
    "Переходим в директорию Scripts\n",
    "\n",
    "``` cd Scripts ```\n",
    "\n",
    "Находим файл activate.bat\n",
    "\n",
    "``` activate.bat ```\n",
    "\n",
    "![image-2.png](attachment:image-2.png)\n",
    "\n",
    "Появился префикс виртуальной среды.\n",
    "\n",
    "![image.png](attachment:image.png)\n",
    "\n",
    "** Далее всё в виртуальной среде **\n",
    "\n",
    "Затем устанавливаем Django:\n",
    "\n",
    "``` pip install Django```\n",
    "\n",
    "Находим ```django-admin```\n",
    "\n",
    "Создаем проект ``` django-admin startproject <Название> ```\n",
    "\n",
    "далее переходим в корень проекта ``` cd <название проекта>```\n",
    "\n",
    "\n"
   ]
  },
  {
   "cell_type": "code",
   "execution_count": null,
   "metadata": {},
   "outputs": [],
   "source": []
  },
  {
   "cell_type": "code",
   "execution_count": null,
   "metadata": {},
   "outputs": [],
   "source": []
  }
 ],
 "metadata": {
  "language_info": {
   "name": "python"
  }
 },
 "nbformat": 4,
 "nbformat_minor": 2
}

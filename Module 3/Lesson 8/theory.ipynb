{
 "cells": [
  {
   "cell_type": "code",
   "execution_count": 6,
   "metadata": {},
   "outputs": [
    {
     "name": "stdout",
     "output_type": "stream",
     "text": [
      "True\n"
     ]
    }
   ],
   "source": [
    "#НЕРегулярные выражения\n",
    "\n",
    "stroka = \"Hello Misha!\"\n",
    "\n",
    "#contain()\n",
    "\n",
    "print(stroka.__contains__(\"Hello\") and stroka[len(stroka)-1]==\"!\")\n",
    "\n",
    "\n",
    "#Определение Почты\n",
    "\n",
    "#[имя ящика]@Домен ->  [1].[2].[3]\n"
   ]
  },
  {
   "cell_type": "code",
   "execution_count": 33,
   "metadata": {},
   "outputs": [
    {
     "name": "stdout",
     "output_type": "stream",
     "text": [
      "<re.Match object; span=(0, 15), match='123.123.123.123'>\n",
      "123.123.123.123\n"
     ]
    }
   ],
   "source": [
    "#Регулярные выражения\n",
    "\n",
    "import re\n",
    "\n",
    "\n",
    "\n",
    "stroka = \"123.123.123.123 ADAW 123.123.123.122\"\n",
    "\n",
    "\n",
    "r = re.match(r'\\d+.\\d+.\\d+.\\d+', stroka)\n",
    "\n",
    "print(r)\n",
    "print(r.group(0))"
   ]
  },
  {
   "cell_type": "code",
   "execution_count": 46,
   "metadata": {},
   "outputs": [
    {
     "name": "stdout",
     "output_type": "stream",
     "text": [
      "<re.Match object; span=(0, 17), match='m_m1sha@gmail.com'>\n"
     ]
    }
   ],
   "source": [
    "stroka = \"m_m1sha@gmail.com\" \n",
    "\n",
    "r = re.match(r'\\w+@\\w+\\.\\w+', stroka)\n",
    "print(r)"
   ]
  },
  {
   "cell_type": "code",
   "execution_count": 64,
   "metadata": {},
   "outputs": [
    {
     "name": "stdout",
     "output_type": "stream",
     "text": [
      "<re.Match object; span=(0, 19), match='M1sвцфвHa@gmail.com'>\n"
     ]
    }
   ],
   "source": [
    "#Алфавит это набор символов от a до z и от A до Z\n",
    "stroka = \"M1sвцфвHa@gmail.com\" \n",
    "\n",
    "r = re.match(r'([A-aZ-zА-аЯ-я]|[0-9]|\\_)+@[a-z]+\\.[a-z]+',stroka)\n",
    "print(r)"
   ]
  },
  {
   "cell_type": "code",
   "execution_count": 72,
   "metadata": {},
   "outputs": [
    {
     "name": "stdout",
     "output_type": "stream",
     "text": [
      "M1sвцфвHa@gmail.com\n",
      " Моя замечательная почта\n"
     ]
    }
   ],
   "source": [
    "#Алфавит это набор символов от a до z и от A до Z\n",
    "stroka = \"M1sвцфвHa@gmail.com Моя замечательная почта\" \n",
    "\n",
    "r = re.match(r'([A-aZ-zА-аЯ-я]|[0-9]|\\_)+@[a-z]+\\.[a-z]+',stroka)\n",
    "print(r.group(0))\n",
    "\n",
    "r = re.split(r'([A-aZ-zА-аЯ-я]|[0-9]|\\_)+@[a-z]+\\.[a-z]+',stroka, maxsplit=1)\n",
    "print(r[2])"
   ]
  },
  {
   "cell_type": "code",
   "execution_count": 77,
   "metadata": {},
   "outputs": [
    {
     "name": "stdout",
     "output_type": "stream",
     "text": [
      "Я люблю играть в шахматы\n"
     ]
    }
   ],
   "source": [
    "stroka = \"Я люблю играть в дота\"\n",
    "\n",
    "r = re.sub(r'дот([а]|[у])','шахматы', stroka)\n",
    "\n",
    "\n",
    "print(r)"
   ]
  },
  {
   "cell_type": "code",
   "execution_count": 94,
   "metadata": {},
   "outputs": [
    {
     "name": "stdout",
     "output_type": "stream",
     "text": [
      "['у']\n"
     ]
    }
   ],
   "source": [
    "import re\n",
    "pattern = re.compile(r'дот([a]|[у])')\n",
    "result = pattern.findall(\"Я люблю играть в доту, Это моя любимая игра. А ещё мне очень нравится Дота\")\n",
    "print(result)"
   ]
  },
  {
   "cell_type": "code",
   "execution_count": 97,
   "metadata": {},
   "outputs": [
    {
     "name": "stdout",
     "output_type": "stream",
     "text": [
      "['d', 'A', 'D', 'A', 'W', 'd', 'a', 'w', 'k', 's', 'j', 'd', 'k', 'j', 'a', 's', ' ', 'f', 's', 'd', 'j', ' ', 'h', 'f', 's', 'd', 'j', 'h', 'f', 's', 'd', ' ', 'j', 'a', 's', 'h', 'd', 'f', 'j', 'k', 's', 'h', 'w', 'e', 'u', 'i', 'o', 'd', 'a', 's', 'i', 'o', ';', 'l', 'd', 'f', 'u', 'i', 'e', 'o', 'w', 'r', 'f']\n"
     ]
    }
   ],
   "source": [
    "import re\n",
    "stroka = \"dADAWdawksjdkjas fsdj hfsdjhfsd jashdfjkshweuiodasio;ldfuieowrf\"\n",
    "\n",
    "lst = list(stroka)\n",
    "print(lst)"
   ]
  },
  {
   "cell_type": "code",
   "execution_count": 108,
   "metadata": {},
   "outputs": [
    {
     "name": "stdout",
     "output_type": "stream",
     "text": [
      "fsdj\n"
     ]
    }
   ],
   "source": [
    "import re\n",
    "\n",
    "stroka = \"dADAWdawksjdkjas fsdj hfsdjhfsd jashdfjkshweuiodasio;ldfuieowrf\"\n",
    "\n",
    "r = re.findall(r'\\b\\w\\w\\w\\w\\b', stroka)\n",
    "print(r[0])"
   ]
  },
  {
   "cell_type": "markdown",
   "metadata": {},
   "source": [
    "Есть список телефонных номеров, и нужно проверить их, используя регулярные выражения в Python. Номер должен быть длиной 10 знаков и начинаться с 8 или 9. "
   ]
  },
  {
   "cell_type": "code",
   "execution_count": 117,
   "metadata": {},
   "outputs": [
    {
     "name": "stdout",
     "output_type": "stream",
     "text": [
      "<re.Match object; span=(0, 10), match='8999999999'>\n",
      "None\n",
      "None\n"
     ]
    }
   ],
   "source": [
    "import re\n",
    "\n",
    "numbers = ['8999999999', '8-999-99-99-99', '9999999999_999']\n",
    "\n",
    "\n",
    "for i in range(3):\n",
    "    r = re.match(r'[8-9]{1}[0-9]{9}',numbers[i])\n",
    "    print(r)"
   ]
  }
 ],
 "metadata": {
  "kernelspec": {
   "display_name": "Python 3",
   "language": "python",
   "name": "python3"
  },
  "language_info": {
   "codemirror_mode": {
    "name": "ipython",
    "version": 3
   },
   "file_extension": ".py",
   "mimetype": "text/x-python",
   "name": "python",
   "nbconvert_exporter": "python",
   "pygments_lexer": "ipython3",
   "version": "3.12.3"
  }
 },
 "nbformat": 4,
 "nbformat_minor": 2
}

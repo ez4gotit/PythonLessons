{
 "cells": [
  {
   "cell_type": "markdown",
   "metadata": {},
   "source": [
    "## Декортаоры"
   ]
  },
  {
   "cell_type": "code",
   "execution_count": 49,
   "metadata": {},
   "outputs": [
    {
     "name": "stdout",
     "output_type": "stream",
     "text": [
      ">> decorator_with_args: test_decorator\n",
      ">> decorator_with_args: test_decorator2\n",
      "start\n",
      ">> real_decorator: sum\n",
      "> sum function\n",
      ">> post_function: sum\n",
      "6\n",
      ">> real_decorator: sub\n",
      "> sub function\n",
      ">> post_function: sub\n",
      "4\n",
      "end\n"
     ]
    }
   ],
   "source": [
    "#Пример декоратора:\n",
    "\n",
    "\n",
    "#Декоратор всё + 2\n",
    "def decorator_with_args(name):\n",
    "    print('>> decorator_with_args:', name)\n",
    "    def real_decorator(function):\n",
    "        def decorated(*args, **kwargs):\n",
    "            print('>> real_decorator:', function.__name__)\n",
    "            _return = function(*args, **kwargs)\n",
    "            print('>> post_function:', function.__name__)\n",
    "            return _return + 2\n",
    "        return decorated\n",
    "    return real_decorator\n",
    "\n",
    "\n",
    "@decorator_with_args('test_decorator')\n",
    "def sum(a,b):\n",
    "    print('> sum function')\n",
    "    return a+b\n",
    "\n",
    "@decorator_with_args('test_decorator2')\n",
    "def sub(a,b):\n",
    "    print('> sub function')\n",
    "    return a-b\n",
    "\n",
    "\n",
    "print('start')\n",
    "\n",
    "c = sum(1,3) #\n",
    "print(c)\n",
    "d = sub(4,2)\n",
    "print(d)\n",
    "\n",
    "print('end')\n",
    "\n",
    "\n"
   ]
  },
  {
   "cell_type": "code",
   "execution_count": 63,
   "metadata": {},
   "outputs": [
    {
     "name": "stdout",
     "output_type": "stream",
     "text": [
      ">> decorator_with_args: test_decorator\n",
      ">> decorator_with_args: awdwad\n",
      ">> decorator_with_args: awdwad\n",
      ">> decorator_with_args: awdwad\n",
      ">> decorator_with_args: awdwad\n",
      ">> decorator_with_args: awdwad\n",
      ">> decorator_with_args: awdwad\n",
      ">> decorator_with_args: awdwad\n",
      "start\n",
      ">> real_decorator: sum\n",
      "> sum function\n",
      ">> post_function: sum\n",
      "2\n",
      ">> real_decorator: decorated\n",
      ">> real_decorator: decorated\n",
      ">> real_decorator: decorated\n",
      ">> real_decorator: decorated\n",
      ">> real_decorator: decorated\n",
      ">> real_decorator: decorated\n",
      ">> real_decorator: decorator\n",
      "> sub function\n",
      ">> post_function: decorator\n",
      ">> post_function: decorated\n",
      ">> post_function: decorated\n",
      ">> post_function: decorated\n",
      ">> post_function: decorated\n",
      ">> post_function: decorated\n",
      ">> post_function: decorated\n",
      "-2\n",
      "end\n"
     ]
    }
   ],
   "source": [
    "#Decorator in use\n",
    "\n",
    "#Пример декоратора:\n",
    "\n",
    "from sys import deactivate_stack_trampoline\n",
    "\n",
    "\n",
    "def mod_decorator(name):\n",
    "    print('>> decorator_with_args:', name)\n",
    "    def real_decorator(function):\n",
    "        def decorated(*args, **kwargs):\n",
    "            print('>> real_decorator:', function.__name__)\n",
    "            _return = function(*args, **kwargs)\n",
    "            print('>> post_function:', function.__name__)\n",
    "            if _return < 0:\n",
    "                return _return * -1\n",
    "            else:\n",
    "                return _return\n",
    "        return decorated\n",
    "    return real_decorator\n",
    "def square(value):\n",
    "    return value**2\n",
    "def always_negative_decarator():\n",
    "    def real_decarator(function):\n",
    "        def decorator(*args, **kwargs):\n",
    "            _return = function(*args, **kwargs)\n",
    "            return _return *-1\n",
    "        return decorator\n",
    "    return real_decarator\n",
    "\n",
    "def square_decarator():\n",
    "    def real_decarator(function):\n",
    "        def decorator(*args, **kwargs):\n",
    "            _return = function(*args, **kwargs)\n",
    "            return square(_return)\n",
    "        return decorator\n",
    "    return real_decarator\n",
    "\n",
    "@mod_decorator('test_decorator')\n",
    "def sum(a,b):\n",
    "    print('> sum function')\n",
    "    return a+b\n",
    "\n",
    "#@mod_decorator('test_decorator2')\n",
    "@decorator_with_args(\"awdwad\")\n",
    "@decorator_with_args(\"awdwad\")\n",
    "@decorator_with_args(\"awdwad\")\n",
    "@decorator_with_args(\"awdwad\")\n",
    "@decorator_with_args(\"awdwad\")\n",
    "@decorator_with_args(\"awdwad\")\n",
    "@decorator_with_args(\"awdwad\")\n",
    "@always_negative_decarator() #16 * -1\n",
    "@square_decarator()# -4*-4 = 16\n",
    "def sub(a,b):\n",
    "    print('> sub function')\n",
    "    return a-b\n",
    "\n",
    "\n",
    "print('start')\n",
    "\n",
    "c = sum(1,-3) #\n",
    "print(c)\n",
    "d = sub(8,4) #4\n",
    "print(d)\n",
    "\n",
    "print('end')\n",
    "\n",
    "\n"
   ]
  },
  {
   "cell_type": "code",
   "execution_count": 68,
   "metadata": {},
   "outputs": [
    {
     "name": "stdout",
     "output_type": "stream",
     "text": [
      ">> decorator_with_args: test_decorator\n",
      ">> decorator_with_args: test_decorator2\n",
      "start\n",
      ">> Результат до обёртки\n",
      "> sum function -2\n",
      ">> Результат после обёртки\n",
      ">> Результат до обёртки\n",
      "> sub function  -3\n",
      ">> Результат после обёртки\n",
      "Функция вычитания\n",
      "end\n"
     ]
    }
   ],
   "source": [
    "#Decorator-class\n",
    "\n",
    "\n",
    "\n",
    "class mod_decorator:\n",
    "    def __init__(self, name):\n",
    "            print('>> decorator_with_args:', name)\n",
    "            self.name = name\n",
    "    def __call__(self, function):\n",
    "        def wrapper(a,b):\n",
    "                '''Функция вычитания'''\n",
    "                print('>> Результат до обёртки')\n",
    "                function(a,b)\n",
    "                print('>> Результат после обёртки')\n",
    "        return wrapper\n",
    "        \n",
    "@mod_decorator('test_decorator')\n",
    "def sum(a,b):\n",
    "    print('> sum function', a+b)\n",
    "\n",
    "@mod_decorator('test_decorator2')\n",
    "def sub(a,b):\n",
    "    '''Функция вычитания'''\n",
    "    print('> sub function ', a-b)\n",
    "\n",
    "\n",
    "print('start')\n",
    "\n",
    "sum(1,-3)\n",
    "sub(1,4)\n",
    "\n",
    "print(sub.__doc__)\n",
    "print('end')"
   ]
  },
  {
   "cell_type": "code",
   "execution_count": 87,
   "metadata": {},
   "outputs": [
    {
     "name": "stdout",
     "output_type": "stream",
     "text": [
      "bimbim\n",
      "Не надо дядя\n",
      "None\n",
      "0.0\n",
      "bimbim\n",
      "Не надо дядя\n",
      "None\n",
      "0.0\n"
     ]
    }
   ],
   "source": [
    "#Decorator from module functools\n",
    "import time\n",
    "\n",
    "from functools import cache\n",
    "from zipimport import ZipImportError\n",
    "\n",
    "def decorator(function):\n",
    "    def wrapper(*args, **kwargs):\n",
    "        '''Неимоверно крутой враппер'''\n",
    "\n",
    "        try:\n",
    "            print(function.__name__)\n",
    "            return function(*args,**kwargs)\n",
    "        except:\n",
    "            print(\"Не надо дядя\")\n",
    "\n",
    "        \n",
    "    return wrapper\n",
    "\n",
    "@decorator\n",
    "def bimbim(a,b):\n",
    "    '''Нереально крутая функция'''\n",
    "    for i in range(a*b):\n",
    "        print(' ')\n",
    "    return a/b\n",
    "\n",
    "start = time.time()\n",
    "print(bimbim(100000,0))\n",
    "\n",
    "end = time.time()\n",
    "print(end - start)\n",
    "\n",
    "\n",
    "start = time.time()\n",
    "print(bimbim(1000000,0))\n",
    "\n",
    "end = time.time()\n",
    "print(end - start)"
   ]
  },
  {
   "cell_type": "code",
   "execution_count": 91,
   "metadata": {},
   "outputs": [
    {
     "name": "stdout",
     "output_type": "stream",
     "text": [
      "1000-7\n",
      "1000-7\n"
     ]
    }
   ],
   "source": [
    "#Написать функцию check_hero которая принимает имя героя, В случае если герой есть, возвращает его хп, иначе 'ошбика'. Использовать исключения.\n",
    "\n",
    "\n",
    "heroes = {'pudge': 1200, 'cm' : 0.5, 'anti-mage': -10}\n",
    "\n",
    "def check_hero(heroname):\n",
    "    try:\n",
    "        print(f'hero hp {0 + heroes.get(heroname)}')\n",
    "    except TypeError:\n",
    "        print('1000-7')\n",
    "    \n",
    "\n",
    "check_hero('awdwada')\n",
    "\n",
    "\n",
    "check_hero('pudge')\n"
   ]
  },
  {
   "cell_type": "code",
   "execution_count": 88,
   "metadata": {},
   "outputs": [
    {
     "name": "stdout",
     "output_type": "stream",
     "text": [
      "True\n",
      "False\n"
     ]
    }
   ],
   "source": [
    "#Написать функцию check_date которая принимает три аргумента, день, месяц год. В случае если дата есть в нашем календаре, возвращает True, иначе False. Использовать исключения.\n",
    "\n",
    "\n",
    "from datetime import date\n",
    "\n",
    "def check_date(d,m,y):\n",
    "    try:\n",
    "        date(y,m,d)\n",
    "        return True\n",
    "    except:\n",
    "        return False\n",
    "print(check_date(24,2,2004))\n",
    "print(check_date(30,2,2004))"
   ]
  },
  {
   "cell_type": "markdown",
   "metadata": {},
   "source": [
    "Даны две различные клетки шахматной доски. Напишите программу, которая определяет, может ли ладья попасть с первой клетки на вторую одним ходом. Программа получает на вход четыре числа от 1 до 8 каждое, задающие номер столбца и номер строки сначала для первой клетки, потом для второй клетки. Программа должна вывести «YES», если из первой клетки ходом ладьи можно попасть во вторую, или «NO» в противном случае."
   ]
  },
  {
   "cell_type": "code",
   "execution_count": 95,
   "metadata": {},
   "outputs": [
    {
     "name": "stdout",
     "output_type": "stream",
     "text": [
      "YES\n"
     ]
    }
   ],
   "source": [
    "x1 = int(input())\n",
    "y1 = int(input())\n",
    "x2 = int(input())\n",
    "y2 = int(input())\n",
    "\n",
    "print('YES') if ((y1 == y2) or (x1 == x2)) else print('NO')\n"
   ]
  }
 ],
 "metadata": {
  "kernelspec": {
   "display_name": "Python 3",
   "language": "python",
   "name": "python3"
  },
  "language_info": {
   "codemirror_mode": {
    "name": "ipython",
    "version": 3
   },
   "file_extension": ".py",
   "mimetype": "text/x-python",
   "name": "python",
   "nbconvert_exporter": "python",
   "pygments_lexer": "ipython3",
   "version": "3.12.3"
  }
 },
 "nbformat": 4,
 "nbformat_minor": 2
}

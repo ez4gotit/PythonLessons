{
 "cells": [
  {
   "cell_type": "markdown",
   "metadata": {},
   "source": [
    "# ЦИКЛЫ Практическое Занятие \n",
    "\n",
    "### Задание 1\n",
    "\n",
    "У нас есть программа, которая ожидает на входе два значения - высоту n(int) и ширину m(int) проямоугольника в символах.\n",
    "Вывод:\n",
    "Прямоугольник ASCII символов '#' Высоты n символов и Ширины m симоволов\n",
    "\n"
   ]
  },
  {
   "cell_type": "code",
   "execution_count": 8,
   "metadata": {},
   "outputs": [
    {
     "name": "stdout",
     "output_type": "stream",
     "text": [
      "######\n",
      "######\n",
      "######\n",
      "######\n",
      "######\n",
      "\n"
     ]
    }
   ],
   "source": [
    "#Без цикла -\n",
    "n : int= int(input())\n",
    "m : int= int(input())\n",
    "print((\"#\"*m+'\\n')*n)\n",
    "\n"
   ]
  },
  {
   "cell_type": "code",
   "execution_count": 13,
   "metadata": {},
   "outputs": [
    {
     "name": "stdout",
     "output_type": "stream",
     "text": [
      "#####\n",
      "#####\n",
      "#####\n",
      "#####\n",
      "#####\n",
      "#####\n"
     ]
    }
   ],
   "source": [
    "#С циклом\n",
    "\n",
    "width = int(input(\"Введите ширину: \"))\n",
    "height = int(input(\"Введите высоту: \"))\n",
    "for i in range(height):\n",
    "    for j in range(width):\n",
    "        print(\"#\", end='')\n",
    "    print(\"\\n\",end='')\n",
    "#for n = i =j:\n",
    "#O(n^2)"
   ]
  },
  {
   "cell_type": "markdown",
   "metadata": {},
   "source": [
    "### Задание 2\n",
    "У нас есть программа, которая ожидает на входе два значения - высоту n(int) и ширину m(int) проямоугольника в символах.\n",
    "Вывод:\n",
    "Прямоугольник ASCII символов '#' Высоты n символов и Ширины m симоволов не имеющий заполнения по площади, только по периметру\n"
   ]
  },
  {
   "cell_type": "code",
   "execution_count": 15,
   "metadata": {},
   "outputs": [
    {
     "name": "stdout",
     "output_type": "stream",
     "text": [
      "#####\n",
      "#   #\n",
      "#   #\n",
      "#   #\n",
      "#   #\n",
      "#####\n"
     ]
    }
   ],
   "source": [
    "#C циклом\n",
    "width = int(input(\"Введите ширину: \"))\n",
    "height = int(input(\"Введите высоту: \"))\n",
    "for i in range(height): # 0 1 2 3 4 5\n",
    "    for j in range(width):\n",
    "        if(i != 0 and i != height-1):\n",
    "            if(j != 0 and j != width-1):\n",
    "                print(\" \", end='')\n",
    "            else:\n",
    "                print(\"#\", end='')\n",
    "        else:\n",
    "            print(\"#\", end='')\n",
    "    print(\"\\n\", end='')\n",
    "\n",
    "# O(n^2)\n",
    "\n",
    "\n",
    "# Ещё более коротко\n",
    "h, w = int(input()), int(input())\n",
    "for i in range(h): \n",
    "    for j in range(w): \n",
    "        if i == 0 or i == h-1 or j == 0 or j == w-1:\n",
    "            print(\"#\", end=\"\")\n",
    "        else:\n",
    "            print(\" \", end=\"\")\n",
    "    print() "
   ]
  },
  {
   "cell_type": "markdown",
   "metadata": {},
   "source": [
    "# Задание 3\n",
    "У нас есть программа, которая ожидает на входе два значения - высоту n(int) треугольника в символах.\n",
    "Вывод:\n",
    "Правильный Треугольник(Приамидка) ASCII символов '#' Высоты n символов без заполнения.\n"
   ]
  },
  {
   "cell_type": "code",
   "execution_count": 24,
   "metadata": {},
   "outputs": [
    {
     "name": "stdout",
     "output_type": "stream",
     "text": [
      "      ##\n",
      "     #  #\n",
      "    #    #\n",
      "   #      #\n",
      "  #        #\n",
      " ############\n"
     ]
    }
   ],
   "source": [
    "#С циклом\n",
    "\n",
    "h = int(input())\n",
    "for i in range(h-1):\n",
    "    print(\" \"*(h-i)+\"#\"+\" \"*2*i+\"#\")\n",
    "print(\" \"+\"#\"*2*(h))"
   ]
  },
  {
   "cell_type": "markdown",
   "metadata": {},
   "source": [
    "# Задание 4\n",
    "У нас есть программа, которая ожидает на входе три значения - смещение по x-оси(Горизонталь), смещение по y-Оси(Вертикаль), высоту n(int) треугольника в символаx.Символ a- в качестве параметра для заполнения фигуры - Текстуру\n",
    "Вывод:\n",
    "Правильный Треугольник(Приамидка) ASCII символов '#' Высоты n символов без заполнения.\n"
   ]
  },
  {
   "cell_type": "code",
   "execution_count": 27,
   "metadata": {},
   "outputs": [
    {
     "name": "stdout",
     "output_type": "stream",
     "text": [
      "\n",
      "\n",
      "\n",
      "\n",
      "\n",
      "\n",
      "\n",
      "\n",
      "\n",
      "\n",
      "                   ##\n",
      "                  #  #\n",
      "                 #    #\n",
      "                #      #\n",
      "               #        #\n",
      "              #          #\n",
      "             #            #\n",
      "            #              #\n",
      "           #                #\n",
      "          ####################\n"
     ]
    }
   ],
   "source": [
    "h = int(input(\"Высота:\"))-1\n",
    "x = int(input(\"Смещение x: \"))\n",
    "y = int(input(\"Смещение y: \"))\n",
    "c = input(\"Символ заполнения: \")\n",
    "for j in range(y):\n",
    "    print()\n",
    "for i in range(h):\n",
    "    print(\" \"*x+\" \"*(h-i)+\"#\"+c*2*i+\"#\")\n",
    "print(\" \"*x+\"#\"*2*(h+1))"
   ]
  },
  {
   "cell_type": "markdown",
   "metadata": {},
   "source": [
    "# Задание 4.1\n",
    "У нас есть программа, которая ожидает на входе три значения - смещение по x-оси(Горизонталь), смещение по y-Оси(Вертикаль), высоту n(int), ширину m(int) прямоугольника в символаx и a- в качестве параметра для заполнения фигуры - Текстуру\n",
    "Вывод:\n",
    "Правильный Треугольник(Приамидка) ASCII символов '#' Высоты n символов без заполнения."
   ]
  },
  {
   "cell_type": "code",
   "execution_count": 29,
   "metadata": {},
   "outputs": [
    {
     "name": "stdout",
     "output_type": "stream",
     "text": [
      "\n",
      "\n",
      "\n",
      "\n",
      "\n",
      "\n",
      "\n",
      "\n",
      "\n",
      "\n",
      "\n",
      "\n",
      "\n",
      "\n",
      "\n",
      "                    ##########\n",
      "                    #oooooooo#\n",
      "                    #oooooooo#\n",
      "                    #oooooooo#\n",
      "                    #oooooooo#\n",
      "                    #oooooooo#\n",
      "                    #oooooooo#\n",
      "                    #oooooooo#\n",
      "                    #oooooooo#\n",
      "                    ##########\n"
     ]
    }
   ],
   "source": [
    "xx = int(input(\"Ширина: \"))\n",
    "yy = int(input(\"Высота: \"))\n",
    "x = int(input(\"Смещение x: \"))\n",
    "y = int(input(\"Смещение y: \"))\n",
    "c = input(\"Символ заполнения: \")\n",
    "\n",
    "for _ in range(y):\n",
    "    print()\n",
    "\n",
    "def printEnd():\n",
    "    print(\" \"*x+\"#\"*xx)\n",
    "def printRow():\n",
    "    print(\" \"*x+\"#\"+c*(xx-2)+\"#\")\n",
    "\n",
    "printEnd()\n",
    "for _ in range(yy-2):\n",
    "    printRow()\n",
    "printEnd()"
   ]
  },
  {
   "cell_type": "markdown",
   "metadata": {},
   "source": [
    "### Что мы имеем в итоге:"
   ]
  },
  {
   "cell_type": "code",
   "execution_count": 34,
   "metadata": {},
   "outputs": [
    {
     "name": "stdout",
     "output_type": "stream",
     "text": [
      "\n",
      "\n",
      "\n",
      "\n",
      "\n",
      "\n",
      "\n",
      "\n",
      "\n",
      "\n",
      "\n",
      "\n",
      "\n",
      "           #         \n",
      "          # #        \n",
      "         #   #       \n",
      "        #     #      \n",
      "       #       #     \n",
      "      #         #    \n",
      "     #           #   \n",
      "    #             #  \n",
      "   #               # \n",
      "  ###################\n",
      "\u001b[2J\u001b[H\n"
     ]
    }
   ],
   "source": [
    "\n",
    "\n",
    "def printTriangle(height, x, y, ch):\n",
    "    widthDown = 2 * (height - 1) + 1\n",
    "    printChar(\"\\n\",y)\n",
    "    for i in range(height):\n",
    "        width = 2 * i + 1\n",
    "        printChar(\" \", x)\n",
    "        space = int((widthDown - width) / 2)\n",
    "        printChar(\" \", space)\n",
    "        for k in range(width):\n",
    "            if k != 0 and k != width-1 and i != height-1:\n",
    "                printChar(ch, 1)\n",
    "            else:\n",
    "                printChar(\"#\", 1)\n",
    "        printChar(\" \", space)\n",
    "        printChar(\"\\n\", 1)\n",
    "\n",
    "def printChar(ch, i):\n",
    "    for j in range(i):\n",
    "        print(ch, end='')\n",
    "\n",
    "printTriangle(10, 2, 13, \" \")\n",
    "\n",
    "\n",
    "\n"
   ]
  }
 ],
 "metadata": {
  "kernelspec": {
   "display_name": "Python 3",
   "language": "python",
   "name": "python3"
  },
  "language_info": {
   "codemirror_mode": {
    "name": "ipython",
    "version": 3
   },
   "file_extension": ".py",
   "mimetype": "text/x-python",
   "name": "python",
   "nbconvert_exporter": "python",
   "pygments_lexer": "ipython3",
   "version": "3.11.9"
  }
 },
 "nbformat": 4,
 "nbformat_minor": 2
}

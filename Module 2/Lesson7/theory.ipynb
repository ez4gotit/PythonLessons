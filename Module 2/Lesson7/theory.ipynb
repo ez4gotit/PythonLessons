{
 "cells": [
  {
   "cell_type": "markdown",
   "metadata": {},
   "source": [
    "# Словари"
   ]
  },
  {
   "cell_type": "code",
   "execution_count": 26,
   "metadata": {},
   "outputs": [
    {
     "name": "stdout",
     "output_type": "stream",
     "text": [
      "{'Misha': '20', 'AABDAB': None}\n"
     ]
    }
   ],
   "source": [
    "user_list = input().split()\n",
    "\n",
    "user_dictionary  = {}\n",
    "\n",
    "user_dictionary.setdefault(user_list[0], user_list[1])\n",
    "user_list = input().split()\n",
    "user_dictionary.setdefault(user_list[0])\n",
    "\n",
    "print(user_dictionary)"
   ]
  },
  {
   "cell_type": "markdown",
   "metadata": {},
   "source": []
  }
 ],
 "metadata": {
  "kernelspec": {
   "display_name": "Python 3",
   "language": "python",
   "name": "python3"
  },
  "language_info": {
   "codemirror_mode": {
    "name": "ipython",
    "version": 3
   },
   "file_extension": ".py",
   "mimetype": "text/x-python",
   "name": "python",
   "nbconvert_exporter": "python",
   "pygments_lexer": "ipython3",
   "version": "3.12.3"
  }
 },
 "nbformat": 4,
 "nbformat_minor": 2
}

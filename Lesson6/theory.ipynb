{
 "cells": [
  {
   "cell_type": "markdown",
   "metadata": {},
   "source": [
    "# Коллекции/Листы\n",
    "\n",
    "1) Как устроены Листы\n",
    "2) Как работать с Листами\n",
    "3) Основные методы\n",
    "4) Порешаем задачки"
   ]
  },
  {
   "cell_type": "code",
   "execution_count": 6,
   "metadata": {},
   "outputs": [
    {
     "name": "stdout",
     "output_type": "stream",
     "text": [
      "[]\n",
      "[0, 1, 2, 3, 4]\n",
      "[0, 2, 4, 6, 8]\n",
      "[1, 3, 5, 7, 9]\n"
     ]
    }
   ],
   "source": [
    "#Что такое листы?\n",
    "#Листы это последовательность (однотипных) неуникальных элементов.\n",
    "a = [1,2,3,3]\n",
    "\n",
    "\n",
    "#DLAW:\"DLAS\"Dl'a|1|2|3|4|5|6|7|8|9|asl;kd;askd;alk\n",
    "\n",
    "\n",
    "#(1->0x1b)dal;dla'w;d(2->0x2c)dladaw(3->null)dkal;dksl;kdalsdk;al\n",
    "\n",
    "\n",
    "#Пустой лист:\n",
    "a = []\n",
    "\n",
    "a = list()\n",
    "\n",
    "\n",
    "print(a)\n",
    "#Лист с диапазоном чисел\n",
    "\n",
    "a = list(range(5))\n",
    "\n",
    "print(a)\n",
    "\n",
    "\n",
    "a_even = list(range(0,10,2)) \n",
    "a_odd = list(range(1,10,2))\n",
    "\n",
    "print(a_even)\n",
    "print(a_odd)"
   ]
  },
  {
   "cell_type": "code",
   "execution_count": 20,
   "metadata": {},
   "outputs": [
    {
     "name": "stdout",
     "output_type": "stream",
     "text": [
      "3\n",
      "2\n"
     ]
    }
   ],
   "source": [
    "#Многомерные или вложенные списки\n",
    "\n",
    "numbers = [1,2,3,4,5]\n",
    "\n",
    "numbers = [[1,2,3,4,5],[11,12,13,14,15],[21,22,23,24,25]]\n",
    "print(numbers[0][2])\n",
    "\n",
    "numbers = [[[1],[2]],[3]]\n",
    "\n",
    "print(numbers[0][1][0])"
   ]
  },
  {
   "cell_type": "markdown",
   "metadata": {},
   "source": [
    "# Методы:\n",
    "1) append() добавляет элемент\n",
    "2) remove(элемент) удаляет совпадение из списка\n",
    "3) pop(int) удаляет элемент по индексу с возможностью записи в переменную\n",
    "4) clear() очищает список\n",
    "5) sort() сортирует список\n",
    "6) extend(список) объединяет списки\n",
    "7) index(элемент) возвращает индекс элемента\n",
    "8) insert(index, значение) вставить значение по индексу\n"
   ]
  },
  {
   "cell_type": "code",
   "execution_count": 21,
   "metadata": {},
   "outputs": [
    {
     "name": "stdout",
     "output_type": "stream",
     "text": [
      "[1, 3, 5, 2, 2, 11, 47, 16, 9, 0, 12]\n"
     ]
    }
   ],
   "source": [
    "#append\n",
    "\n",
    "a = [1,3,5,2,2,11,47,16,9,0]\n",
    "\n",
    "a.append(12)\n",
    "\n",
    "print(a)"
   ]
  },
  {
   "cell_type": "code",
   "execution_count": 23,
   "metadata": {},
   "outputs": [
    {
     "name": "stdout",
     "output_type": "stream",
     "text": [
      "[1, 3, 5, 2, 11, 47, 16, 9, 0]\n"
     ]
    }
   ],
   "source": [
    "#remove\n",
    "a = [1,3,5,2,2,11,47,16,9,0]\n",
    "\n",
    "a.remove(2)\n",
    "\n",
    "print(a)"
   ]
  },
  {
   "cell_type": "code",
   "execution_count": 24,
   "metadata": {},
   "outputs": [
    {
     "name": "stdout",
     "output_type": "stream",
     "text": [
      "[3, 5, 2, 2, 11, 47, 16, 9, 0]\n"
     ]
    }
   ],
   "source": [
    "#pop\n",
    "a = [1,3,5,2,2,11,47,16,9,0]\n",
    "\n",
    "a.pop(0)\n",
    "\n",
    "print(a)"
   ]
  },
  {
   "cell_type": "code",
   "execution_count": 25,
   "metadata": {},
   "outputs": [
    {
     "name": "stdout",
     "output_type": "stream",
     "text": [
      "[]\n"
     ]
    }
   ],
   "source": [
    "#clear\n",
    "a = [1,3,5,2,2,11,47,16,9,0]\n",
    "\n",
    "a.clear()\n",
    "\n",
    "print(a)"
   ]
  },
  {
   "cell_type": "code",
   "execution_count": 26,
   "metadata": {},
   "outputs": [
    {
     "name": "stdout",
     "output_type": "stream",
     "text": [
      "[0, 1, 2, 2, 3, 5, 9, 11, 16, 47]\n"
     ]
    }
   ],
   "source": [
    "#sort\n",
    "a = [1,3,5,2,2,11,47,16,9,0]\n",
    "\n",
    "a.sort()\n",
    "\n",
    "print(a)"
   ]
  },
  {
   "cell_type": "code",
   "execution_count": 29,
   "metadata": {},
   "outputs": [
    {
     "name": "stdout",
     "output_type": "stream",
     "text": [
      "[1, 3, 5, 2, 2, 11, 47, 16, 9, 0, 'a', 'b', 'c']\n"
     ]
    }
   ],
   "source": [
    "a = [1,3,5,2,2,11,47,16,9,0]\n",
    "\n",
    "b = ['a','b','c']\n",
    "\n",
    "\n",
    "a.extend(b)\n",
    "\n",
    "print(a)\n"
   ]
  },
  {
   "cell_type": "code",
   "execution_count": 33,
   "metadata": {},
   "outputs": [
    {
     "name": "stdout",
     "output_type": "stream",
     "text": [
      "6\n"
     ]
    }
   ],
   "source": [
    "#index\n",
    "a = [1,3,5,2,2,11,47,16,9,0]\n",
    "\n",
    "i = a.index(47)\n",
    "\n",
    "print(i)"
   ]
  },
  {
   "cell_type": "code",
   "execution_count": 34,
   "metadata": {},
   "outputs": [
    {
     "name": "stdout",
     "output_type": "stream",
     "text": [
      "[1, 3, 12, 5, 2, 2, 11, 47, 16, 9, 0]\n"
     ]
    }
   ],
   "source": [
    "#insert\n",
    "a = [1,3,5,2,2,11,47,16,9,0]\n",
    "\n",
    "a.insert(2,12)\n",
    "\n",
    "print(a)"
   ]
  },
  {
   "cell_type": "code",
   "execution_count": 38,
   "metadata": {},
   "outputs": [
    {
     "name": "stdout",
     "output_type": "stream",
     "text": [
      "()\n",
      "(1, 2, 3, 4)\n",
      "(1, 2, 3, 4, 5)\n"
     ]
    }
   ],
   "source": [
    "#Кортежи\n",
    "a = ()\n",
    "print(a)\n",
    "a = (1,2,3,4)\n",
    "print(a)\n",
    "#Превратить в лист\n",
    "a = list(a)\n",
    "\n",
    "a.append(5)\n",
    "\n",
    "a = tuple(a)\n",
    "\n",
    "print(a)\n",
    "\n",
    "a = [1, 2, 3]\n",
    "b = a\n",
    "b.append(4)\n",
    "print(a)"
   ]
  }
 ],
 "metadata": {
  "kernelspec": {
   "display_name": "Python 3",
   "language": "python",
   "name": "python3"
  },
  "language_info": {
   "codemirror_mode": {
    "name": "ipython",
    "version": 3
   },
   "file_extension": ".py",
   "mimetype": "text/x-python",
   "name": "python",
   "nbconvert_exporter": "python",
   "pygments_lexer": "ipython3",
   "version": "3.12.3"
  }
 },
 "nbformat": 4,
 "nbformat_minor": 2
}

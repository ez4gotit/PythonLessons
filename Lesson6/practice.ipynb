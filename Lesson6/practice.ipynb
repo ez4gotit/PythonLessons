{
 "cells": [
  {
   "cell_type": "markdown",
   "metadata": {},
   "source": [
    "Задача 1\n",
    "Дан список:\n",
    "a = [1, 2, 3, 4, 5, 6]\n",
    "Требуется удалить из списка все нечетные элементы, а четные разделить нацело на два. Новый список создавать нельзя"
   ]
  },
  {
   "cell_type": "code",
   "execution_count": null,
   "metadata": {},
   "outputs": [],
   "source": [
    "\n"
   ]
  }
 ],
 "metadata": {
  "language_info": {
   "name": "python"
  }
 },
 "nbformat": 4,
 "nbformat_minor": 2
}
